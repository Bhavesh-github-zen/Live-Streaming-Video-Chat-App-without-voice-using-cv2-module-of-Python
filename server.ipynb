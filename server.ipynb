{
 "cells": [
  {
   "cell_type": "code",
   "execution_count": 1,
   "metadata": {},
   "outputs": [],
   "source": [
    "# Importing all required library\n",
    "\n",
    "import socket\n",
    "import cv2\n",
    "import numpy as np"
   ]
  },
  {
   "cell_type": "code",
   "execution_count": 2,
   "metadata": {},
   "outputs": [],
   "source": [
    "# to connect with internal camera\n",
    "\n",
    "cap = cv2.VideoCapture(0)"
   ]
  },
  {
   "cell_type": "code",
   "execution_count": 3,
   "metadata": {},
   "outputs": [],
   "source": [
    "# creating socket with the help of socket module\n",
    "# here we are using \"AF_INET\" address family and \"TCP\" protocol\n",
    "\n",
    "s = socket.socket(socket.AF_INET, socket.SOCK_STREAM)"
   ]
  },
  {
   "cell_type": "code",
   "execution_count": 4,
   "metadata": {},
   "outputs": [],
   "source": [
    "# to remove the \"Address already in use\" ERROR\n",
    "# allows server to reuse the port\n",
    "\n",
    "s.setsockopt(socket.SOL_SOCKET, socket.SO_REUSEADDR, 1)"
   ]
  },
  {
   "cell_type": "code",
   "execution_count": 5,
   "metadata": {},
   "outputs": [],
   "source": [
    "# port binding\n",
    "# to bind ip address with port number\n",
    "\n",
    "s.bind((\"192.168.14.38\",1000))"
   ]
  },
  {
   "cell_type": "code",
   "execution_count": 6,
   "metadata": {},
   "outputs": [],
   "source": [
    "# In TCP programming ,we always need to mention state/mode\n",
    "# to set \"listen\" state/mode\n",
    "\n",
    "s.listen()"
   ]
  },
  {
   "cell_type": "code",
   "execution_count": 7,
   "metadata": {},
   "outputs": [
    {
     "name": "stdout",
     "output_type": "stream",
     "text": [
      "Session closed by client\n"
     ]
    }
   ],
   "source": [
    "# here is the final code to send and receive stream of images i.e. video from client\n",
    "# here we are creating try-except block for error/exeption handling\n",
    "\n",
    "# to accept, memorise and maintain the connection from client\n",
    "session, addr = s.accept()\n",
    "\n",
    "try:\n",
    "    # infinite while loop to receive and send stream of images i.e. video continuously\n",
    "    while True:\n",
    "        \n",
    "        # read() function for clicking image        \n",
    "        ret, photo = cap.read()\n",
    "        \n",
    "        # converting clicked image into byte string with the help of tobytes() function\n",
    "        photo_bytes = cv2.imencode(\".jpeg\", photo)[1].tobytes()\n",
    "        \n",
    "        # sending image to the client in the form of byte string\n",
    "        session.sendall(photo_bytes)\n",
    "        \n",
    "        # receving image(in the form byte string) from the client with thw help of recv() function\n",
    "        client_photo = session.recv(100000000)\n",
    "        \n",
    "        # converting received byte string into numpy array\n",
    "        # frombuffer() function will convert received byte string into 1D array\n",
    "        client_photo_final = np.frombuffer(client_photo, dtype='uint8')\n",
    "        \n",
    "        # converting 1D array into 3D array by using imencode() function\n",
    "        client_photo_show = cv2.imdecode(client_photo_final, 1) # here inside imencode() function, argument \"1\" is for converting 1D array into color image and \"0\" is for converting 1D array into black n white/gray image. This \"1\",\"0\" are flag.\n",
    "        \n",
    "        # now to show image received from server, use imshow() function\n",
    "        cv2.imshow(\"mypic\", client_photo_show)\n",
    "        \n",
    "        # waitKey() function is use to hold video window\n",
    "        if cv2.waitKey(10) == 13:\n",
    "            # to close the session\n",
    "            s.close()\n",
    "            break\n",
    "            \n",
    "    # to destroy/close video window\n",
    "    cv2.destroyAllWindows()\n",
    "    \n",
    "    # to turn off camera\n",
    "    cap.release()\n",
    "    \n",
    "except:\n",
    "    print(\"Session closed by client\")"
   ]
  },
  {
   "cell_type": "code",
   "execution_count": null,
   "metadata": {},
   "outputs": [],
   "source": []
  }
 ],
 "metadata": {
  "kernelspec": {
   "display_name": "Python 3",
   "language": "python",
   "name": "python3"
  },
  "language_info": {
   "codemirror_mode": {
    "name": "ipython",
    "version": 3
   },
   "file_extension": ".py",
   "mimetype": "text/x-python",
   "name": "python",
   "nbconvert_exporter": "python",
   "pygments_lexer": "ipython3",
   "version": "3.8.3"
  }
 },
 "nbformat": 4,
 "nbformat_minor": 4
}
