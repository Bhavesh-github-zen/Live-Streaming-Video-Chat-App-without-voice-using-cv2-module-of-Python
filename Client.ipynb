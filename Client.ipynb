{
 "cells": [
  {
   "cell_type": "code",
   "execution_count": 1,
   "metadata": {},
   "outputs": [],
   "source": [
    "# Importing all required library\n",
    "\n",
    "import socket\n",
    "import numpy as np\n",
    "import cv2"
   ]
  },
  {
   "cell_type": "code",
   "execution_count": 2,
   "metadata": {},
   "outputs": [],
   "source": [
    "# to connect with external camera\n",
    "\n",
    "cap = cv2.VideoCapture(1)"
   ]
  },
  {
   "cell_type": "code",
   "execution_count": 3,
   "metadata": {},
   "outputs": [],
   "source": [
    "# creating socket with the help of socket module\n",
    "# here we are using \"AF_INET\" address family and \"TCP\" protocol\n",
    "\n",
    "s = socket.socket(socket.AF_INET, socket.SOCK_STREAM)"
   ]
  },
  {
   "cell_type": "code",
   "execution_count": 4,
   "metadata": {},
   "outputs": [],
   "source": [
    "# to connect client with server\n",
    "\n",
    "s.connect((\"192.168.14.38\",1000))"
   ]
  },
  {
   "cell_type": "code",
   "execution_count": 5,
   "metadata": {},
   "outputs": [],
   "source": [
    "# here is the final code to send and receive stream of images i.e. video from server\n",
    "# here we are creating try-except block for error/exeption handling\n",
    "\n",
    "try:\n",
    "    # infinite while loop to receive and send stream of images i.e. video continuously\n",
    "    while True:\n",
    "        # receving image(in the form byte string) from the server with thw help of recv() function\n",
    "        server_photo = s.recv(100000000)\n",
    "        \n",
    "        # converting received byte string into numpy array\n",
    "        # frombuffer() function will convert received byte string into 1D array\n",
    "        server_photo_final = np.frombuffer(server_photo, dtype='uint8')\n",
    "        \n",
    "        # converting 1D array into 3D array by using imencode() function\n",
    "        server_photo_show = cv2.imdecode(server_photo_final, 1) # here inside imencode() function, argument \"1\" is for converting 1D array into color image and \"0\" is for converting 1D array into black n white/gray image. This \"1\",\"0\" are flag.\n",
    "        \n",
    "        # now to show image received from server, use imshow() function\n",
    "        cv2.imshow(\"Video from Server\", server_photo_show)\n",
    "        \n",
    "        # waitKey() function is use to hold video window\n",
    "        if cv2.waitKey(10) == 13:\n",
    "            # to close the session\n",
    "            s.close()\n",
    "            break\n",
    "            \n",
    "        # read() function for clicking image\n",
    "        ret, photo = cap.read()\n",
    "        \n",
    "        # converting clicked image into byte string with the help of tobytes() function\n",
    "        photo_bytes = cv2.imencode(\".jpeg\", photo)[1].tobytes()\n",
    "        \n",
    "        # sending image to the server in the form of byte string \n",
    "        s.sendall(photo_bytes)\n",
    "        \n",
    "    # to destroy/close video window\n",
    "    cv2.destroyAllWindows()\n",
    "    \n",
    "    # to turn off camera\n",
    "    cap.release()\n",
    "    \n",
    "except:\n",
    "    print(\"Session closed by server\")\n"
   ]
  },
  {
   "cell_type": "code",
   "execution_count": null,
   "metadata": {},
   "outputs": [],
   "source": []
  },
  {
   "cell_type": "code",
   "execution_count": null,
   "metadata": {},
   "outputs": [],
   "source": []
  }
 ],
 "metadata": {
  "kernelspec": {
   "display_name": "Python 3",
   "language": "python",
   "name": "python3"
  },
  "language_info": {
   "codemirror_mode": {
    "name": "ipython",
    "version": 3
   },
   "file_extension": ".py",
   "mimetype": "text/x-python",
   "name": "python",
   "nbconvert_exporter": "python",
   "pygments_lexer": "ipython3",
   "version": "3.8.3"
  }
 },
 "nbformat": 4,
 "nbformat_minor": 4
}
